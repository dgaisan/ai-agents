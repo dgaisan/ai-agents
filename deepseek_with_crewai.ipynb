{
  "nbformat": 4,
  "nbformat_minor": 0,
  "metadata": {
    "colab": {
      "provenance": [],
      "authorship_tag": "ABX9TyOlIUKSA+h4DNUrMaEHpADx",
      "include_colab_link": true
    },
    "kernelspec": {
      "name": "python3",
      "display_name": "Python 3"
    },
    "language_info": {
      "name": "python"
    }
  },
  "cells": [
    {
      "cell_type": "markdown",
      "metadata": {
        "id": "view-in-github",
        "colab_type": "text"
      },
      "source": [
        "<a href=\"https://colab.research.google.com/github/dgaisan/ai-agents/blob/main/deepseek_with_crewai.ipynb\" target=\"_parent\"><img src=\"https://colab.research.google.com/assets/colab-badge.svg\" alt=\"Open In Colab\"/></a>"
      ]
    },
    {
      "cell_type": "markdown",
      "source": [
        "**Running Deepseek with CrewAI**"
      ],
      "metadata": {
        "id": "3TeK53Sjw_Ki"
      }
    },
    {
      "cell_type": "markdown",
      "source": [
        "Step 1: Environment Setup\n"
      ],
      "metadata": {
        "id": "mm9P5cskw9aU"
      }
    },
    {
      "cell_type": "code",
      "source": [
        "%pip install ollama\n",
        "%pip install colab-xterm"
      ],
      "metadata": {
        "collapsed": true,
        "id": "tpB29zRpxgLF"
      },
      "execution_count": null,
      "outputs": []
    },
    {
      "cell_type": "markdown",
      "source": [
        "System Info Tools"
      ],
      "metadata": {
        "id": "EjqR-E_Lxwl2"
      }
    },
    {
      "cell_type": "code",
      "source": [
        "!sudo apt-get update\n",
        "!sudo apt-get install pciutils lshw"
      ],
      "metadata": {
        "id": "tcdDhMNFxyQe"
      },
      "execution_count": null,
      "outputs": []
    },
    {
      "cell_type": "markdown",
      "source": [
        "Downloads and installs Ollama via the official shell script (Run only once)"
      ],
      "metadata": {
        "id": "w2Vn7S9Nx5sQ"
      }
    },
    {
      "cell_type": "code",
      "source": [
        "!curl -fsSL https://ollama.com/install.sh | sh"
      ],
      "metadata": {
        "id": "kO3457BnyAXp"
      },
      "execution_count": null,
      "outputs": []
    },
    {
      "cell_type": "markdown",
      "source": [
        "Pulling Deepseek & llama Models"
      ],
      "metadata": {
        "id": "QxTBXaTL0AJc"
      }
    },
    {
      "cell_type": "code",
      "source": [
        "# Download the deepseek-r1:7b\n",
        "!ollama pull deepseek-r1:7b\n",
        "# Download the llama3\n",
        "!ollama pull llama3"
      ],
      "metadata": {
        "id": "hGESCz_L0GA6"
      },
      "execution_count": null,
      "outputs": []
    },
    {
      "cell_type": "markdown",
      "source": [
        "Pulling Lightweight SLMs"
      ],
      "metadata": {
        "id": "Fjtd6Ufe0QWW"
      }
    },
    {
      "cell_type": "code",
      "source": [
        "# ultra-small general models\n",
        "!ollama pull phi3:mini\n",
        "!ollama pull tinyllama\n",
        "# Google's compact chat model\n",
        "!ollama pull gemma:2b\n",
        "# reasoning model\n",
        "!ollama pull deepseek-r1:1.5b"
      ],
      "metadata": {
        "id": "9zrIF4tC0fCQ"
      },
      "execution_count": null,
      "outputs": []
    },
    {
      "cell_type": "markdown",
      "source": [
        "Check Installed Models"
      ],
      "metadata": {
        "id": "bo-owF4n1kiS"
      }
    },
    {
      "cell_type": "code",
      "source": [
        "!ollama list"
      ],
      "metadata": {
        "id": "nZ9H6diZ1lU4"
      },
      "execution_count": null,
      "outputs": []
    }
  ]
}